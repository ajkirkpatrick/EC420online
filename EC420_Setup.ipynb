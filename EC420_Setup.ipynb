{
  "nbformat": 4,
  "nbformat_minor": 0,
  "metadata": {
    "colab": {
      "name": "EC420_Setup.ipynb",
      "provenance": [],
      "authorship_tag": "ABX9TyPZFYzrxoxnqGU6QePTgwBq",
      "include_colab_link": true
    },
    "kernelspec": {
      "name": "ir",
      "display_name": "R"
    },
    "language_info": {
      "name": "R"
    }
  },
  "cells": [
    {
      "cell_type": "markdown",
      "metadata": {
        "id": "view-in-github",
        "colab_type": "text"
      },
      "source": [
        "<a href=\"https://colab.research.google.com/github/ajkirkpatrick/EC420online/blob/Spring22/EC420_Setup.ipynb\" target=\"_parent\"><img src=\"https://colab.research.google.com/assets/colab-badge.svg\" alt=\"Open In Colab\"/></a>"
      ]
    },
    {
      "cell_type": "code",
      "execution_count": 4,
      "metadata": {
        "colab": {
          "base_uri": "https://localhost:8080/"
        },
        "id": "Kg6q0wBYyzWR",
        "outputId": "e6e38772-5370-4239-e558-21fa9c2bdb8d"
      },
      "outputs": [
        {
          "output_type": "stream",
          "name": "stderr",
          "text": [
            "Loading required package: ggplot2\n",
            "\n"
          ]
        }
      ],
      "source": [
        "#### Load packages. If missing, this will install once ####\n",
        "packages = c('ggplot2','lmtest','sandwich','purrr')\n",
        "\n",
        "package.check <- lapply(\n",
        "  packages,\n",
        "  FUN = function(x) {\n",
        "    if (!require(x, character.only = TRUE)) {\n",
        "      install.packages(x, dependencies = TRUE, repos = 'http://cran.us.r-project.org')\n",
        "      library(x, character.only = TRUE)\n",
        "    }})\n",
        "\n",
        "\n",
        "#### Begin coding ####\n",
        "\n",
        "## Set up data ##\n",
        "# N of 500\n",
        "# tau (the treatment effect) of 4\n",
        "set.seed(024)\n",
        "tau = 4\n",
        "N = 500\n",
        "\n",
        "df = data.frame(hID = 1:N,\n",
        "                type = as.integer(rbernoulli(n = N, p=.25)))\n",
        "\n",
        "\n",
        "\n"
      ]
    },
    {
      "cell_type": "code",
      "source": [
        "\n",
        "\n"
      ],
      "metadata": {
        "id": "djSKHLPN2Rih"
      },
      "execution_count": null,
      "outputs": []
    },
    {
      "cell_type": "code",
      "source": [
        "NROW(df)"
      ],
      "metadata": {
        "id": "m-clZueC2RuE"
      },
      "execution_count": null,
      "outputs": []
    }
  ]
}